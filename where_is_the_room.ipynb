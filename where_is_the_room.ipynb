{
 "cells": [
  {
   "cell_type": "markdown",
   "id": "ea94f1a4",
   "metadata": {},
   "source": [
    "# 1.Scraping the Data"
   ]
  },
  {
   "cell_type": "code",
   "execution_count": 1,
   "id": "ece0fe76",
   "metadata": {},
   "outputs": [],
   "source": [
    "import requests\n",
    "from bs4 import BeautifulSoup\n",
    "import pandas as pd\n",
    "\n",
    "# 发送HTTP请求获取网页内容\n",
    "url = 'https://www.studierendenwerk-muenchen-oberbayern.de/en/accommodation/private-accommodation-service/rooms-for-rent/'\n",
    "response = requests.get(url)\n",
    "soup = BeautifulSoup(response.content, 'html.parser')\n",
    "\n",
    "# 查找网页中的表格\n",
    "table = soup.find('table')\n",
    "\n",
    "# 提取表格中的数据\n",
    "headers = [header.text for header in table.find_all('th')]\n",
    "rows = []\n",
    "for row in table.find_all('tr'):\n",
    "    cells = row.find_all('td')\n",
    "    if cells:\n",
    "        rows.append([cell.text for cell in cells])\n",
    "\n",
    "# 将数据保存为DataFrame\n",
    "df = pd.DataFrame(rows, columns=headers)\n",
    "\n",
    "# 保存为CSV文件\n",
    "df.to_csv('table_data.csv', index=False)\n"
   ]
  },
  {
   "cell_type": "code",
   "execution_count": 20,
   "id": "f8f01781",
   "metadata": {},
   "outputs": [],
   "source": [
    "# pip install gspread oauth2client\n"
   ]
  },
  {
   "cell_type": "code",
   "execution_count": 21,
   "id": "4f7ec2e5",
   "metadata": {},
   "outputs": [
    {
     "name": "stdout",
     "output_type": "stream",
     "text": [
      "Requirement already satisfied: python-dotenv in /opt/homebrew/anaconda3/lib/python3.10/site-packages (1.0.1)\n",
      "Note: you may need to restart the kernel to use updated packages.\n"
     ]
    }
   ],
   "source": [
    "# pip install python-dotenv\n"
   ]
  },
  {
   "cell_type": "markdown",
   "id": "bc4342f6",
   "metadata": {},
   "source": [
    "## use the data (address) ->"
   ]
  },
  {
   "cell_type": "markdown",
   "id": "1660731a",
   "metadata": {},
   "source": [
    "# 2. Calculate Commuting Time"
   ]
  },
  {
   "cell_type": "code",
   "execution_count": 24,
   "id": "18e85e36",
   "metadata": {},
   "outputs": [],
   "source": [
    "from dotenv import load_dotenv\n",
    "import os\n",
    "# 加载环境变量\n",
    "load_dotenv()\n",
    "\n",
    "# 从环境变量获取Google Maps API密钥\n",
    "API_KEY = os.getenv('GOOGLE_MAPS_API_KEY')"
   ]
  },
  {
   "cell_type": "code",
   "execution_count": 13,
   "id": "78b5af21",
   "metadata": {},
   "outputs": [
    {
     "name": "stdout",
     "output_type": "stream",
     "text": [
      "公共交通时间计算完成并已保存到transit_times.csv\n"
     ]
    }
   ],
   "source": [
    "import requests\n",
    "import pandas as pd\n",
    "\n",
    "\n",
    "# 指定地点的经纬度\n",
    "destination = '48.15004, 11.56701'  # TUM school of management\n",
    "\n",
    "# 从Google表格或CSV文件中加载位置数据\n",
    "data = pd.read_csv('table_data - table_data.csv')  # 假设CSV文件中有'latitude'和'longitude'列\n",
    "\n",
    "# 创建一个列表来存储结果\n",
    "results = []\n",
    "\n",
    "# 遍历每个地点，计算到指定地点的公共交通时间\n",
    "for index, row in data.iterrows():\n",
    "    origin = f\"{row['Latitude']},{row['Longitude']}\"\n",
    "    url = f\"https://maps.googleapis.com/maps/api/directions/json?origin={origin}&destination={destination}&mode=transit&key={API_KEY}\"\n",
    "    \n",
    "    response = requests.get(url)\n",
    "    directions = response.json()\n",
    "    \n",
    "    if directions['status'] == 'OK':\n",
    "        duration = directions['routes'][0]['legs'][0]['duration']['text']\n",
    "        results.append({'latitude': row['Latitude'], 'longitude': row['Longitude'], 'duration': duration})\n",
    "    else:\n",
    "        results.append({'latitude': row['Latitude'], 'longitude': row['Longitude'], 'duration': 'N/A'})\n",
    "\n",
    "\n",
    "# 将结果保存到CSV文件\n",
    "results_df = pd.DataFrame(results)\n",
    "results_df.to_csv('transit_times.csv', index=False)\n",
    "\n",
    "print('公共交通时间计算完成并已保存到transit_times.csv')\n"
   ]
  },
  {
   "cell_type": "markdown",
   "id": "c7ed65c0",
   "metadata": {},
   "source": [
    "# 3. Visualize Commuting Time"
   ]
  },
  {
   "cell_type": "code",
   "execution_count": 19,
   "id": "e2f4ff31",
   "metadata": {},
   "outputs": [],
   "source": [
    "# pip install folium"
   ]
  },
  {
   "cell_type": "code",
   "execution_count": 17,
   "id": "623641c8",
   "metadata": {},
   "outputs": [
    {
     "name": "stdout",
     "output_type": "stream",
     "text": [
      "地图已生成并保存为transit_times_map.html\n"
     ]
    }
   ],
   "source": [
    "import pandas as pd\n",
    "import folium\n",
    "\n",
    "# 加载CSV数据\n",
    "data = pd.read_csv('transit_times.csv').dropna()\n",
    "\n",
    "# 创建一个基础地图\n",
    "m = folium.Map(location=[48.15004, 11.56701], zoom_start=10)\n",
    "\n",
    "# 定义颜色映射函数\n",
    "def get_color(duration):\n",
    "    if duration == 'N/A' or not isinstance(duration, str):\n",
    "        return 'gray'\n",
    "    \n",
    "    # 将时间转换为总分钟数\n",
    "    time_parts = duration.split()\n",
    "    if 'hour' in time_parts or 'hours' in time_parts:\n",
    "        hours = int(time_parts[0])\n",
    "        minutes = int(time_parts[2]) if len(time_parts) > 2 else 0\n",
    "        time = hours * 60 + minutes\n",
    "    else:\n",
    "        time = int(time_parts[0])\n",
    "\n",
    "    if time < 30:\n",
    "        return 'green'\n",
    "    elif time < 60:\n",
    "        return 'orange'\n",
    "    else:\n",
    "        return 'red'\n",
    "\n",
    "# 添加标记到地图\n",
    "for index, row in data.iterrows():\n",
    "    folium.CircleMarker(\n",
    "        location=[row['latitude'], row['longitude']],\n",
    "        radius=5,\n",
    "        color=get_color(row['duration']),\n",
    "        fill=True,\n",
    "        fill_color=get_color(row['duration']),\n",
    "        fill_opacity=0.6,\n",
    "        popup=f\"Duration: {row['duration']}\"\n",
    "    ).add_to(m)\n",
    "\n",
    "# 保存地图为HTML文件\n",
    "m.save('transit_times_map.html')\n",
    "\n",
    "print(\"地图已生成并保存为transit_times_map.html\")\n"
   ]
  },
  {
   "cell_type": "code",
   "execution_count": null,
   "id": "9294de0e",
   "metadata": {},
   "outputs": [],
   "source": []
  }
 ],
 "metadata": {
  "kernelspec": {
   "display_name": "Python 3 (ipykernel)",
   "language": "python",
   "name": "python3"
  },
  "language_info": {
   "codemirror_mode": {
    "name": "ipython",
    "version": 3
   },
   "file_extension": ".py",
   "mimetype": "text/x-python",
   "name": "python",
   "nbconvert_exporter": "python",
   "pygments_lexer": "ipython3",
   "version": "3.10.9"
  }
 },
 "nbformat": 4,
 "nbformat_minor": 5
}
